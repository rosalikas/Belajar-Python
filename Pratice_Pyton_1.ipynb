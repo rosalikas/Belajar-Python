{
  "nbformat": 4,
  "nbformat_minor": 0,
  "metadata": {
    "colab": {
      "name": "Pratice Pyton 1.ipynb",
      "provenance": [],
      "collapsed_sections": [],
      "authorship_tag": "ABX9TyOCEZFOG6czxWWjC7I2nF9q",
      "include_colab_link": true
    },
    "kernelspec": {
      "name": "python3",
      "display_name": "Python 3"
    },
    "language_info": {
      "name": "python"
    }
  },
  "cells": [
    {
      "cell_type": "markdown",
      "metadata": {
        "id": "view-in-github",
        "colab_type": "text"
      },
      "source": [
        "<a href=\"https://colab.research.google.com/github/rosalikas/Belajar-Python/blob/main/Pratice_Pyton_1.ipynb\" target=\"_parent\"><img src=\"https://colab.research.google.com/assets/colab-badge.svg\" alt=\"Open In Colab\"/></a>"
      ]
    },
    {
      "cell_type": "markdown",
      "metadata": {
        "id": "qzSZGqqDCMx4"
      },
      "source": [
        "Contoh Menampilkan Data"
      ]
    },
    {
      "cell_type": "code",
      "metadata": {
        "colab": {
          "base_uri": "https://localhost:8080/"
        },
        "id": "sX4yvqRzDVK0",
        "outputId": "78e2e071-25fc-44be-dbe3-7c426dde8b81"
      },
      "source": [
        "print(\"Hello World\")\n",
        "print(\"Selamat malam, Budi\")\n",
        "nama = \"BDV\"\n",
        "print(\"Selamat malam\",nama)"
      ],
      "execution_count": null,
      "outputs": [
        {
          "output_type": "stream",
          "text": [
            "Hello World\n",
            "Selamat malam, Budi\n",
            "Selamat malam BDV\n"
          ],
          "name": "stdout"
        }
      ]
    },
    {
      "cell_type": "markdown",
      "metadata": {
        "id": "WZcvX6a6EVdA"
      },
      "source": [
        "Menggunakan Operasi Bilangan"
      ]
    },
    {
      "cell_type": "code",
      "metadata": {
        "colab": {
          "base_uri": "https://localhost:8080/"
        },
        "id": "FRP-rjAXEcDi",
        "outputId": "57b79cae-49f8-43d6-fea3-ca97a3575587"
      },
      "source": [
        "x = 7\n",
        "y = 5\n",
        "z = x * y\n",
        "print(\"x=\", x, \"y=\", y, \"z=\", z)"
      ],
      "execution_count": null,
      "outputs": [
        {
          "output_type": "stream",
          "text": [
            "x= 7 y= 5 z= 35\n"
          ],
          "name": "stdout"
        }
      ]
    },
    {
      "cell_type": "markdown",
      "metadata": {
        "id": "Qnh69LVyEzQ0"
      },
      "source": [
        "Pengulangan (Looping)"
      ]
    },
    {
      "cell_type": "code",
      "metadata": {
        "colab": {
          "base_uri": "https://localhost:8080/"
        },
        "id": "ZHQI0flEE6bn",
        "outputId": "f85374e2-7734-479b-9836-463302f3631e"
      },
      "source": [
        "#tampilan tanpa menggunakan spasi atau tab pada sprint(\"selamat malam\")\n",
        "print(\"selamat pagi\")\n",
        "for x in range(10):\n",
        "  print(x)\n",
        "print(\"selamat malam\")"
      ],
      "execution_count": null,
      "outputs": [
        {
          "output_type": "stream",
          "text": [
            "selamat pagi\n",
            "0\n",
            "1\n",
            "2\n",
            "3\n",
            "4\n",
            "5\n",
            "6\n",
            "7\n",
            "8\n",
            "9\n",
            "selamat malam\n"
          ],
          "name": "stdout"
        }
      ]
    },
    {
      "cell_type": "code",
      "metadata": {
        "colab": {
          "base_uri": "https://localhost:8080/"
        },
        "id": "ppviy8YVFA_K",
        "outputId": "8997b593-d920-4562-ff0b-3dfdc9cc150b"
      },
      "source": [
        "#tampilan dengan menggunakan spasi atau tab pada sprint(\"selamat malam\")\n",
        "print(\"selamat pagi\")\n",
        "for x in range(10):\n",
        "  print(x)\n",
        "  print(\"selamat malam\")"
      ],
      "execution_count": null,
      "outputs": [
        {
          "output_type": "stream",
          "text": [
            "selamat pagi\n",
            "0\n",
            "selamat malam\n",
            "1\n",
            "selamat malam\n",
            "2\n",
            "selamat malam\n",
            "3\n",
            "selamat malam\n",
            "4\n",
            "selamat malam\n",
            "5\n",
            "selamat malam\n",
            "6\n",
            "selamat malam\n",
            "7\n",
            "selamat malam\n",
            "8\n",
            "selamat malam\n",
            "9\n",
            "selamat malam\n"
          ],
          "name": "stdout"
        }
      ]
    },
    {
      "cell_type": "markdown",
      "metadata": {
        "id": "7NFP0dwqFonV"
      },
      "source": [
        "perhitungan matriks dengan menggunakan numpy"
      ]
    },
    {
      "cell_type": "code",
      "metadata": {
        "colab": {
          "base_uri": "https://localhost:8080/"
        },
        "id": "C4wBANXKFsKj",
        "outputId": "37d6a6bb-ddf7-4ab2-e93a-7ad01ecda171"
      },
      "source": [
        "#import nampy terlebih dahulu\n",
        "import numpy as np\n",
        "#masukkan data matrix\n",
        "a = np.array([[1,2,3],[4,5,6],[7,8,9]])\n",
        "print(a)\n",
        "b = np.array([[3,3,3],[2,2,2],[7,7,7]])\n",
        "print(b)\n",
        "c = a + b\n",
        "print(c)\n",
        "d = a * b\n",
        "print(d)"
      ],
      "execution_count": null,
      "outputs": [
        {
          "output_type": "stream",
          "text": [
            "[[1 2 3]\n",
            " [4 5 6]\n",
            " [7 8 9]]\n",
            "[[3 3 3]\n",
            " [2 2 2]\n",
            " [7 7 7]]\n",
            "[[ 4  5  6]\n",
            " [ 6  7  8]\n",
            " [14 15 16]]\n",
            "[[ 3  6  9]\n",
            " [ 8 10 12]\n",
            " [49 56 63]]\n"
          ],
          "name": "stdout"
        }
      ]
    }
  ]
}